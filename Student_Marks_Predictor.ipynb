{
 "cells": [
  {
   "cell_type": "markdown",
   "metadata": {},
   "source": [
    "# Business Probem"
   ]
  },
  {
   "cell_type": "code",
   "execution_count": null,
   "metadata": {},
   "outputs": [],
   "source": [
    "import numpy as np\n",
    "import pandas as pd\n",
    "import matplotlib.pyplot as plt\n",
    "import seaborn as sns"
   ]
  },
  {
   "cell_type": "markdown",
   "metadata": {},
   "source": [
    "# Loading DataSet"
   ]
  },
  {
   "cell_type": "code",
   "execution_count": null,
   "metadata": {},
   "outputs": [],
   "source": [
    "df = pd.read_csv('student_info.csv')"
   ]
  },
  {
   "cell_type": "code",
   "execution_count": null,
   "metadata": {},
   "outputs": [],
   "source": [
    "df.head()"
   ]
  },
  {
   "cell_type": "code",
   "execution_count": null,
   "metadata": {},
   "outputs": [],
   "source": [
    "df.tail()"
   ]
  },
  {
   "cell_type": "code",
   "execution_count": null,
   "metadata": {},
   "outputs": [],
   "source": [
    "df.isna().sum()"
   ]
  },
  {
   "cell_type": "code",
   "execution_count": null,
   "metadata": {},
   "outputs": [],
   "source": [
    "df.shape"
   ]
  },
  {
   "cell_type": "code",
   "execution_count": null,
   "metadata": {},
   "outputs": [],
   "source": [
    "df.describe()"
   ]
  },
  {
   "cell_type": "code",
   "execution_count": null,
   "metadata": {},
   "outputs": [],
   "source": [
    "plt.scatter(df['study_hours'],df['student_marks']);\n",
    "plt.xlabel('Study Hours')\n",
    "plt.ylabel('Students Marks')\n",
    "plt.title('Hours vs Marks');\n"
   ]
  },
  {
   "cell_type": "code",
   "execution_count": null,
   "metadata": {},
   "outputs": [],
   "source": [
    "fig, ax = plt.subplots(figsize=(6,6))\n",
    "ax = sns.regplot(df['study_hours'],df['student_marks'])"
   ]
  },
  {
   "cell_type": "markdown",
   "metadata": {},
   "source": [
    "# Data Cleaning"
   ]
  },
  {
   "cell_type": "code",
   "execution_count": null,
   "metadata": {},
   "outputs": [],
   "source": [
    "df.isna().sum()"
   ]
  },
  {
   "cell_type": "code",
   "execution_count": null,
   "metadata": {},
   "outputs": [],
   "source": [
    "sns.heatmap(df.isna(),cbar=False)"
   ]
  },
  {
   "cell_type": "code",
   "execution_count": null,
   "metadata": {},
   "outputs": [],
   "source": [
    "df.fillna(df['study_hours'].mean(),inplace=True)"
   ]
  },
  {
   "cell_type": "code",
   "execution_count": null,
   "metadata": {},
   "outputs": [],
   "source": [
    "df.isna().sum()"
   ]
  },
  {
   "cell_type": "code",
   "execution_count": null,
   "metadata": {},
   "outputs": [],
   "source": [
    "df.dtypes"
   ]
  },
  {
   "cell_type": "code",
   "execution_count": null,
   "metadata": {},
   "outputs": [],
   "source": [
    "# Splitting dataset into X and y\n",
    "X = df.drop('student_marks',axis=1)\n",
    "y = df['student_marks']"
   ]
  },
  {
   "cell_type": "code",
   "execution_count": null,
   "metadata": {},
   "outputs": [],
   "source": [
    "\n",
    "from sklearn.model_selection import train_test_split\n",
    "X_train,X_test,y_train,y_test = train_test_split(X,y,test_size=0.2,random_state=42)"
   ]
  },
  {
   "cell_type": "markdown",
   "metadata": {},
   "source": [
    "# Seecting a model"
   ]
  },
  {
   "cell_type": "code",
   "execution_count": null,
   "metadata": {},
   "outputs": [],
   "source": [
    "from sklearn.linear_model import LinearRegression\n",
    "lr = LinearRegression()\n",
    "lr.fit(X_train,y_train)"
   ]
  },
  {
   "cell_type": "code",
   "execution_count": null,
   "metadata": {},
   "outputs": [],
   "source": [
    "lr.score(X_test,y_test)"
   ]
  },
  {
   "cell_type": "code",
   "execution_count": null,
   "metadata": {},
   "outputs": [],
   "source": [
    "lr.score(X_train,y_train)"
   ]
  },
  {
   "cell_type": "code",
   "execution_count": null,
   "metadata": {},
   "outputs": [],
   "source": [
    "lr.coef_"
   ]
  },
  {
   "cell_type": "code",
   "execution_count": 21,
   "metadata": {},
   "outputs": [
    {
     "data": {
      "text/plain": [
       "50.43835070056993"
      ]
     },
     "execution_count": 21,
     "metadata": {},
     "output_type": "execute_result"
    }
   ],
   "source": [
    "lr.intercept_"
   ]
  },
  {
   "cell_type": "code",
   "execution_count": 22,
   "metadata": {},
   "outputs": [
    {
     "data": {
      "text/plain": [
       "66.14"
      ]
     },
     "execution_count": 22,
     "metadata": {},
     "output_type": "execute_result"
    }
   ],
   "source": [
    "lr.predict([[4]])[0].round(2)"
   ]
  },
  {
   "cell_type": "code",
   "execution_count": 23,
   "metadata": {},
   "outputs": [],
   "source": [
    "y_pred = lr.predict(X_test)"
   ]
  },
  {
   "cell_type": "code",
   "execution_count": 24,
   "metadata": {},
   "outputs": [
    {
     "data": {
      "text/plain": [
       "array([74.35016819, 76.15631533, 82.36003809, 80.00419401, 75.48882617,\n",
       "       73.17224615, 82.83120691, 70.81640206, 71.60168343, 74.70354481,\n",
       "       81.29990825, 84.44103371, 71.56241936, 70.42376138, 85.26557914,\n",
       "       73.17224615, 73.01518988, 82.16371775, 76.58822008, 70.34523325,\n",
       "       84.55882591, 75.41029803, 83.02752725, 81.45696453, 71.83726783,\n",
       "       71.99432411, 77.45202958, 82.87047098, 84.79441032, 77.25570924,\n",
       "       76.94159669, 83.459432  , 84.55882591, 74.15384785, 71.60168343,\n",
       "       78.82627196, 83.14531946, 70.62008172, 81.33917232, 70.50228952])"
      ]
     },
     "execution_count": 24,
     "metadata": {},
     "output_type": "execute_result"
    }
   ],
   "source": [
    "y_pred"
   ]
  },
  {
   "cell_type": "code",
   "execution_count": 25,
   "metadata": {},
   "outputs": [
    {
     "data": {
      "text/html": [
       "<div>\n",
       "<style scoped>\n",
       "    .dataframe tbody tr th:only-of-type {\n",
       "        vertical-align: middle;\n",
       "    }\n",
       "\n",
       "    .dataframe tbody tr th {\n",
       "        vertical-align: top;\n",
       "    }\n",
       "\n",
       "    .dataframe thead th {\n",
       "        text-align: right;\n",
       "    }\n",
       "</style>\n",
       "<table border=\"1\" class=\"dataframe\">\n",
       "  <thead>\n",
       "    <tr style=\"text-align: right;\">\n",
       "      <th></th>\n",
       "      <th>study_hours</th>\n",
       "      <th>original_marks</th>\n",
       "      <th>predicted_marks</th>\n",
       "    </tr>\n",
       "  </thead>\n",
       "  <tbody>\n",
       "    <tr>\n",
       "      <th>0</th>\n",
       "      <td>6.09</td>\n",
       "      <td>76.48</td>\n",
       "      <td>74.350168</td>\n",
       "    </tr>\n",
       "    <tr>\n",
       "      <th>1</th>\n",
       "      <td>6.55</td>\n",
       "      <td>76.03</td>\n",
       "      <td>76.156315</td>\n",
       "    </tr>\n",
       "    <tr>\n",
       "      <th>2</th>\n",
       "      <td>8.13</td>\n",
       "      <td>82.27</td>\n",
       "      <td>82.360038</td>\n",
       "    </tr>\n",
       "    <tr>\n",
       "      <th>3</th>\n",
       "      <td>7.53</td>\n",
       "      <td>81.57</td>\n",
       "      <td>80.004194</td>\n",
       "    </tr>\n",
       "    <tr>\n",
       "      <th>4</th>\n",
       "      <td>6.38</td>\n",
       "      <td>77.01</td>\n",
       "      <td>75.488826</td>\n",
       "    </tr>\n",
       "    <tr>\n",
       "      <th>5</th>\n",
       "      <td>5.79</td>\n",
       "      <td>74.44</td>\n",
       "      <td>73.172246</td>\n",
       "    </tr>\n",
       "    <tr>\n",
       "      <th>6</th>\n",
       "      <td>8.25</td>\n",
       "      <td>82.79</td>\n",
       "      <td>82.831207</td>\n",
       "    </tr>\n",
       "    <tr>\n",
       "      <th>7</th>\n",
       "      <td>5.19</td>\n",
       "      <td>71.18</td>\n",
       "      <td>70.816402</td>\n",
       "    </tr>\n",
       "    <tr>\n",
       "      <th>8</th>\n",
       "      <td>5.39</td>\n",
       "      <td>73.02</td>\n",
       "      <td>71.601683</td>\n",
       "    </tr>\n",
       "    <tr>\n",
       "      <th>9</th>\n",
       "      <td>6.18</td>\n",
       "      <td>72.96</td>\n",
       "      <td>74.703545</td>\n",
       "    </tr>\n",
       "    <tr>\n",
       "      <th>10</th>\n",
       "      <td>7.86</td>\n",
       "      <td>81.25</td>\n",
       "      <td>81.299908</td>\n",
       "    </tr>\n",
       "    <tr>\n",
       "      <th>11</th>\n",
       "      <td>8.66</td>\n",
       "      <td>86.99</td>\n",
       "      <td>84.441034</td>\n",
       "    </tr>\n",
       "    <tr>\n",
       "      <th>12</th>\n",
       "      <td>5.38</td>\n",
       "      <td>71.94</td>\n",
       "      <td>71.562419</td>\n",
       "    </tr>\n",
       "    <tr>\n",
       "      <th>13</th>\n",
       "      <td>5.09</td>\n",
       "      <td>70.05</td>\n",
       "      <td>70.423761</td>\n",
       "    </tr>\n",
       "    <tr>\n",
       "      <th>14</th>\n",
       "      <td>8.87</td>\n",
       "      <td>85.10</td>\n",
       "      <td>85.265579</td>\n",
       "    </tr>\n",
       "    <tr>\n",
       "      <th>15</th>\n",
       "      <td>5.79</td>\n",
       "      <td>73.64</td>\n",
       "      <td>73.172246</td>\n",
       "    </tr>\n",
       "    <tr>\n",
       "      <th>16</th>\n",
       "      <td>5.75</td>\n",
       "      <td>75.03</td>\n",
       "      <td>73.015190</td>\n",
       "    </tr>\n",
       "    <tr>\n",
       "      <th>17</th>\n",
       "      <td>8.08</td>\n",
       "      <td>81.70</td>\n",
       "      <td>82.163718</td>\n",
       "    </tr>\n",
       "    <tr>\n",
       "      <th>18</th>\n",
       "      <td>6.66</td>\n",
       "      <td>76.63</td>\n",
       "      <td>76.588220</td>\n",
       "    </tr>\n",
       "    <tr>\n",
       "      <th>19</th>\n",
       "      <td>5.07</td>\n",
       "      <td>69.27</td>\n",
       "      <td>70.345233</td>\n",
       "    </tr>\n",
       "    <tr>\n",
       "      <th>20</th>\n",
       "      <td>8.69</td>\n",
       "      <td>83.57</td>\n",
       "      <td>84.558826</td>\n",
       "    </tr>\n",
       "    <tr>\n",
       "      <th>21</th>\n",
       "      <td>6.36</td>\n",
       "      <td>76.04</td>\n",
       "      <td>75.410298</td>\n",
       "    </tr>\n",
       "    <tr>\n",
       "      <th>22</th>\n",
       "      <td>8.30</td>\n",
       "      <td>82.02</td>\n",
       "      <td>83.027527</td>\n",
       "    </tr>\n",
       "    <tr>\n",
       "      <th>23</th>\n",
       "      <td>7.90</td>\n",
       "      <td>79.10</td>\n",
       "      <td>81.456965</td>\n",
       "    </tr>\n",
       "    <tr>\n",
       "      <th>24</th>\n",
       "      <td>5.45</td>\n",
       "      <td>70.06</td>\n",
       "      <td>71.837268</td>\n",
       "    </tr>\n",
       "    <tr>\n",
       "      <th>25</th>\n",
       "      <td>5.49</td>\n",
       "      <td>73.61</td>\n",
       "      <td>71.994324</td>\n",
       "    </tr>\n",
       "    <tr>\n",
       "      <th>26</th>\n",
       "      <td>6.88</td>\n",
       "      <td>77.29</td>\n",
       "      <td>77.452030</td>\n",
       "    </tr>\n",
       "    <tr>\n",
       "      <th>27</th>\n",
       "      <td>8.26</td>\n",
       "      <td>81.70</td>\n",
       "      <td>82.870471</td>\n",
       "    </tr>\n",
       "    <tr>\n",
       "      <th>28</th>\n",
       "      <td>8.75</td>\n",
       "      <td>85.95</td>\n",
       "      <td>84.794410</td>\n",
       "    </tr>\n",
       "    <tr>\n",
       "      <th>29</th>\n",
       "      <td>6.83</td>\n",
       "      <td>75.80</td>\n",
       "      <td>77.255709</td>\n",
       "    </tr>\n",
       "    <tr>\n",
       "      <th>30</th>\n",
       "      <td>6.75</td>\n",
       "      <td>77.82</td>\n",
       "      <td>76.941597</td>\n",
       "    </tr>\n",
       "    <tr>\n",
       "      <th>31</th>\n",
       "      <td>8.41</td>\n",
       "      <td>82.50</td>\n",
       "      <td>83.459432</td>\n",
       "    </tr>\n",
       "    <tr>\n",
       "      <th>32</th>\n",
       "      <td>8.69</td>\n",
       "      <td>85.48</td>\n",
       "      <td>84.558826</td>\n",
       "    </tr>\n",
       "    <tr>\n",
       "      <th>33</th>\n",
       "      <td>6.04</td>\n",
       "      <td>72.33</td>\n",
       "      <td>74.153848</td>\n",
       "    </tr>\n",
       "    <tr>\n",
       "      <th>34</th>\n",
       "      <td>5.39</td>\n",
       "      <td>71.87</td>\n",
       "      <td>71.601683</td>\n",
       "    </tr>\n",
       "    <tr>\n",
       "      <th>35</th>\n",
       "      <td>7.23</td>\n",
       "      <td>77.55</td>\n",
       "      <td>78.826272</td>\n",
       "    </tr>\n",
       "    <tr>\n",
       "      <th>36</th>\n",
       "      <td>8.33</td>\n",
       "      <td>83.48</td>\n",
       "      <td>83.145319</td>\n",
       "    </tr>\n",
       "    <tr>\n",
       "      <th>37</th>\n",
       "      <td>5.14</td>\n",
       "      <td>71.22</td>\n",
       "      <td>70.620082</td>\n",
       "    </tr>\n",
       "    <tr>\n",
       "      <th>38</th>\n",
       "      <td>7.87</td>\n",
       "      <td>82.04</td>\n",
       "      <td>81.339172</td>\n",
       "    </tr>\n",
       "    <tr>\n",
       "      <th>39</th>\n",
       "      <td>5.11</td>\n",
       "      <td>72.08</td>\n",
       "      <td>70.502290</td>\n",
       "    </tr>\n",
       "  </tbody>\n",
       "</table>\n",
       "</div>"
      ],
      "text/plain": [
       "    study_hours  original_marks  predicted_marks\n",
       "0          6.09           76.48        74.350168\n",
       "1          6.55           76.03        76.156315\n",
       "2          8.13           82.27        82.360038\n",
       "3          7.53           81.57        80.004194\n",
       "4          6.38           77.01        75.488826\n",
       "5          5.79           74.44        73.172246\n",
       "6          8.25           82.79        82.831207\n",
       "7          5.19           71.18        70.816402\n",
       "8          5.39           73.02        71.601683\n",
       "9          6.18           72.96        74.703545\n",
       "10         7.86           81.25        81.299908\n",
       "11         8.66           86.99        84.441034\n",
       "12         5.38           71.94        71.562419\n",
       "13         5.09           70.05        70.423761\n",
       "14         8.87           85.10        85.265579\n",
       "15         5.79           73.64        73.172246\n",
       "16         5.75           75.03        73.015190\n",
       "17         8.08           81.70        82.163718\n",
       "18         6.66           76.63        76.588220\n",
       "19         5.07           69.27        70.345233\n",
       "20         8.69           83.57        84.558826\n",
       "21         6.36           76.04        75.410298\n",
       "22         8.30           82.02        83.027527\n",
       "23         7.90           79.10        81.456965\n",
       "24         5.45           70.06        71.837268\n",
       "25         5.49           73.61        71.994324\n",
       "26         6.88           77.29        77.452030\n",
       "27         8.26           81.70        82.870471\n",
       "28         8.75           85.95        84.794410\n",
       "29         6.83           75.80        77.255709\n",
       "30         6.75           77.82        76.941597\n",
       "31         8.41           82.50        83.459432\n",
       "32         8.69           85.48        84.558826\n",
       "33         6.04           72.33        74.153848\n",
       "34         5.39           71.87        71.601683\n",
       "35         7.23           77.55        78.826272\n",
       "36         8.33           83.48        83.145319\n",
       "37         5.14           71.22        70.620082\n",
       "38         7.87           82.04        81.339172\n",
       "39         5.11           72.08        70.502290"
      ]
     },
     "execution_count": 25,
     "metadata": {},
     "output_type": "execute_result"
    }
   ],
   "source": [
    "pd.DataFrame(np.c_[X_test,y_test,y_pred], columns=['study_hours','original_marks','predicted_marks'])"
   ]
  },
  {
   "cell_type": "code",
   "execution_count": 26,
   "metadata": {},
   "outputs": [],
   "source": [
    "from sklearn.metrics import mean_absolute_error,r2_score"
   ]
  },
  {
   "cell_type": "code",
   "execution_count": 27,
   "metadata": {},
   "outputs": [
    {
     "data": {
      "text/plain": [
       "0.9876755341052214"
      ]
     },
     "execution_count": 27,
     "metadata": {},
     "output_type": "execute_result"
    }
   ],
   "source": [
    "mean_absolute_error(y_test,y_pred)"
   ]
  },
  {
   "cell_type": "code",
   "execution_count": 28,
   "metadata": {},
   "outputs": [
    {
     "data": {
      "text/plain": [
       "0.942580760104548"
      ]
     },
     "execution_count": 28,
     "metadata": {},
     "output_type": "execute_result"
    }
   ],
   "source": [
    "r2_score(y_test,y_pred)"
   ]
  },
  {
   "cell_type": "code",
   "execution_count": 29,
   "metadata": {},
   "outputs": [
    {
     "data": {
      "image/png": "[encoded data removed]",
      "text/plain": [
       "<Figure size 432x288 with 1 Axes>"
      ]
     },
     "metadata": {
      "needs_background": "light"
     },
     "output_type": "display_data"
    }
   ],
   "source": [
    "plt.scatter(X_test,y_test)\n",
    "plt.plot(X_train,lr.predict(X_train),color=\"g\");\n"
   ]
  },
  {
   "cell_type": "markdown",
   "metadata": {},
   "source": [
    "# Saving the model"
   ]
  },
  {
   "cell_type": "code",
   "execution_count": 30,
   "metadata": {},
   "outputs": [],
   "source": [
    "import pickle"
   ]
  },
  {
   "cell_type": "code",
   "execution_count": 31,
   "metadata": {},
   "outputs": [],
   "source": [
    "pickle.dump(lr,open('student_mark_predictor.pkl','wb'))"
   ]
  },
  {
   "cell_type": "code",
   "execution_count": 32,
   "metadata": {},
   "outputs": [],
   "source": [
    "loaded_model = pickle.load(open(\"student_mark_predictor.pkl\",'rb'))"
   ]
  },
  {
   "cell_type": "code",
   "execution_count": 33,
   "metadata": {},
   "outputs": [
    {
     "data": {
      "text/plain": [
       "0.942580760104548"
      ]
     },
     "execution_count": 33,
     "metadata": {},
     "output_type": "execute_result"
    }
   ],
   "source": [
    "loaded_model.score(X_test,y_test)"
   ]
  },
  {
   "cell_type": "code",
   "execution_count": null,
   "metadata": {},
   "outputs": [],
   "source": []
  }
 ],
 "metadata": {
  "kernelspec": {
   "display_name": "Python 3",
   "language": "python",
   "name": "python3"
  },
  "language_info": {
   "codemirror_mode": {
    "name": "ipython",
    "version": 3
   },
   "file_extension": ".py",
   "mimetype": "text/x-python",
   "name": "python",
   "nbconvert_exporter": "python",
   "pygments_lexer": "ipython3",
   "version": "3.8.3"
  }
 },
 "nbformat": 4,
 "nbformat_minor": 4
}
